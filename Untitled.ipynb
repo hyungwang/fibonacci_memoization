{
 "cells": [
  {
   "cell_type": "code",
   "execution_count": 7,
   "metadata": {},
   "outputs": [],
   "source": [
    "def fib(n, memo={'0':0, '1':1}):\n",
    "    if memo.get(n) != None:\n",
    "        return memo.get(n)\n",
    "    else:\n",
    "        memo[str(n)]=fib(n-1, memo)+fib(n-2, memo)\n",
    "        return memo.get(str(n))"
   ]
  },
  {
   "cell_type": "code",
   "execution_count": 8,
   "metadata": {},
   "outputs": [
    {
     "data": {
      "text/plain": [
       "55"
      ]
     },
     "execution_count": 8,
     "metadata": {},
     "output_type": "execute_result"
    }
   ],
   "source": [
    "fib(10)"
   ]
  },
  {
   "cell_type": "code",
   "execution_count": 9,
   "metadata": {},
   "outputs": [],
   "source": [
    "def fib2(n):\n",
    "    a = 0\n",
    "    if(n<=0):\n",
    "        a= 0\n",
    "    elif(n == 1):\n",
    "        a=1\n",
    "    else:\n",
    "        a=fib2(n-1)+fib2(n-2)\n",
    "    return a"
   ]
  },
  {
   "cell_type": "code",
   "execution_count": 10,
   "metadata": {},
   "outputs": [
    {
     "name": "stdout",
     "output_type": "stream",
     "text": [
      "1     1\n",
      "1     1\n",
      "2     2\n",
      "3     3\n",
      "5     5\n",
      "8     8\n",
      "13     13\n",
      "21     21\n",
      "34     34\n",
      "55     55\n",
      "89     89\n",
      "144     144\n",
      "233     233\n",
      "377     377\n",
      "610     610\n",
      "987     987\n",
      "1597     1597\n",
      "2584     2584\n",
      "4181     4181\n",
      "6765     6765\n"
     ]
    }
   ],
   "source": [
    "for i in range(1,21):\n",
    "    print(fib2(i),'   ',fib(i))\n",
    "    "
   ]
  },
  {
   "cell_type": "code",
   "execution_count": null,
   "metadata": {},
   "outputs": [],
   "source": []
  },
  {
   "cell_type": "code",
   "execution_count": null,
   "metadata": {},
   "outputs": [],
   "source": []
  },
  {
   "cell_type": "code",
   "execution_count": null,
   "metadata": {},
   "outputs": [],
   "source": [
    "\n"
   ]
  },
  {
   "cell_type": "code",
   "execution_count": null,
   "metadata": {},
   "outputs": [],
   "source": []
  },
  {
   "cell_type": "code",
   "execution_count": null,
   "metadata": {},
   "outputs": [],
   "source": []
  }
 ],
 "metadata": {
  "kernelspec": {
   "display_name": "Python 3",
   "language": "python",
   "name": "python3"
  },
  "language_info": {
   "codemirror_mode": {
    "name": "ipython",
    "version": 3
   },
   "file_extension": ".py",
   "mimetype": "text/x-python",
   "name": "python",
   "nbconvert_exporter": "python",
   "pygments_lexer": "ipython3",
   "version": "3.6.7"
  }
 },
 "nbformat": 4,
 "nbformat_minor": 2
}
